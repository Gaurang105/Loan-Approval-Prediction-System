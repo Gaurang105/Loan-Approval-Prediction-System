{
 "cells": [
  {
   "cell_type": "code",
   "execution_count": 36,
   "metadata": {},
   "outputs": [
    {
     "name": "stdout",
     "output_type": "stream",
     "text": [
      "Accuracy: 52.50%\n",
      "              precision    recall  f1-score   support\n",
      "\n",
      "           0       0.48      0.43      0.46        37\n",
      "           1       0.55      0.60      0.58        43\n",
      "\n",
      "    accuracy                           0.53        80\n",
      "   macro avg       0.52      0.52      0.52        80\n",
      "weighted avg       0.52      0.53      0.52        80\n",
      "\n"
     ]
    }
   ],
   "source": [
    "import psycopg2\n",
    "import pandas as pd\n",
    "from sklearn.model_selection import train_test_split\n",
    "from sklearn.linear_model import LogisticRegression\n",
    "from sklearn.metrics import accuracy_score, classification_report\n",
    "import joblib  \n",
    "\n",
    "conn = psycopg2.connect(\n",
    "    dbname=\"branchdsprojectgps\",\n",
    "    user=\"datascientist\",\n",
    "    password=\"47eyYBLT0laW5j9U24Uuy8gLcrN\",\n",
    "    host=\"branchhomeworkdb.ccc0r2wfuew7.us-east-1.rds.amazonaws.com\",\n",
    "    port=\"5432\"\n",
    ")\n",
    "\n",
    "loan_outcomes_df = pd.read_sql(\"SELECT * FROM loan_outcomes\", conn)\n",
    "user_attributes_df = pd.read_sql(\"SELECT * FROM user_attributes\", conn)\n",
    "\n",
    "conn.close()\n",
    "\n",
    "merged_df = pd.merge(loan_outcomes_df, user_attributes_df, on=\"user_id\", how=\"inner\")\n",
    "\n",
    "merged_df['loan_outcome'] = merged_df['loan_outcome'].map({'defaulted': 0, 'repaid': 1})\n",
    "\n",
    "X = merged_df[['age', 'cash_incoming_30days']]\n",
    "y = merged_df['loan_outcome']\n",
    "X_train, X_test, y_train, y_test = train_test_split(X, y, test_size=0.2, random_state=42)\n",
    "\n",
    "model = LogisticRegression()\n",
    "model.fit(X_train, y_train)\n",
    "\n",
    "joblib.dump(model, 'model.pkl')\n",
    "\n",
    "y_pred = model.predict(X_test)\n",
    "\n",
    "accuracy = accuracy_score(y_test, y_pred)\n",
    "print(f\"Accuracy: {accuracy*100:.2f}%\")\n",
    "print(classification_report(y_test, y_pred))\n"
   ]
  },
  {
   "cell_type": "code",
   "execution_count": null,
   "metadata": {},
   "outputs": [],
   "source": []
  }
 ],
 "metadata": {
  "kernelspec": {
   "display_name": "Python 3",
   "language": "python",
   "name": "python3"
  },
  "language_info": {
   "name": "python",
   "version": "3.11.0"
  },
  "orig_nbformat": 4
 },
 "nbformat": 4,
 "nbformat_minor": 2
}
